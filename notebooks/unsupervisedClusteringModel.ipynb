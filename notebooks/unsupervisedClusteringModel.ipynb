{
 "cells": [
  {
   "cell_type": "markdown",
   "id": "d30ab3dc",
   "metadata": {},
   "source": [
    "# Loading Dependencies"
   ]
  },
  {
   "cell_type": "code",
   "execution_count": 1,
   "id": "8c042e1a",
   "metadata": {},
   "outputs": [],
   "source": [
    "import numpy as np\n",
    "import pandas as pd\n",
    "import matplotlib.pyplot as plt\n",
    "\n",
    "from sklearn.preprocessing import StandardScaler\n",
    "from sklearn.cluster import KMeans\n",
    "from sklearn.decomposition import PCA"
   ]
  },
  {
   "cell_type": "markdown",
   "id": "3c8f4d1b",
   "metadata": {},
   "source": [
    "# Loading encoded data"
   ]
  },
  {
   "cell_type": "code",
   "execution_count": 2,
   "id": "6c9130d9",
   "metadata": {},
   "outputs": [],
   "source": [
    "data = pd.read_csv('../data/jojo-stands.csv', encoding='latin1')"
   ]
  },
  {
   "cell_type": "code",
   "execution_count": 3,
   "id": "e95cb3a4",
   "metadata": {},
   "outputs": [
    {
     "data": {
      "text/html": [
       "<div>\n",
       "<style scoped>\n",
       "    .dataframe tbody tr th:only-of-type {\n",
       "        vertical-align: middle;\n",
       "    }\n",
       "\n",
       "    .dataframe tbody tr th {\n",
       "        vertical-align: top;\n",
       "    }\n",
       "\n",
       "    .dataframe thead th {\n",
       "        text-align: right;\n",
       "    }\n",
       "</style>\n",
       "<table border=\"1\" class=\"dataframe\">\n",
       "  <thead>\n",
       "    <tr style=\"text-align: right;\">\n",
       "      <th></th>\n",
       "      <th>Stand</th>\n",
       "      <th>PWR</th>\n",
       "      <th>SPD</th>\n",
       "      <th>RNG</th>\n",
       "      <th>PER</th>\n",
       "      <th>PRC</th>\n",
       "      <th>DEV</th>\n",
       "    </tr>\n",
       "  </thead>\n",
       "  <tbody>\n",
       "    <tr>\n",
       "      <th>0</th>\n",
       "      <td>Anubis</td>\n",
       "      <td>B</td>\n",
       "      <td>B</td>\n",
       "      <td>E</td>\n",
       "      <td>A</td>\n",
       "      <td>E</td>\n",
       "      <td>C</td>\n",
       "    </tr>\n",
       "    <tr>\n",
       "      <th>1</th>\n",
       "      <td>Atum</td>\n",
       "      <td>D</td>\n",
       "      <td>C</td>\n",
       "      <td>D</td>\n",
       "      <td>B</td>\n",
       "      <td>D</td>\n",
       "      <td>D</td>\n",
       "    </tr>\n",
       "    <tr>\n",
       "      <th>2</th>\n",
       "      <td>Bastet</td>\n",
       "      <td>E</td>\n",
       "      <td>E</td>\n",
       "      <td>B</td>\n",
       "      <td>A</td>\n",
       "      <td>E</td>\n",
       "      <td>E</td>\n",
       "    </tr>\n",
       "    <tr>\n",
       "      <th>3</th>\n",
       "      <td>Cream</td>\n",
       "      <td>B</td>\n",
       "      <td>B</td>\n",
       "      <td>D</td>\n",
       "      <td>C</td>\n",
       "      <td>C</td>\n",
       "      <td>D</td>\n",
       "    </tr>\n",
       "    <tr>\n",
       "      <th>4</th>\n",
       "      <td>Death Thirteen</td>\n",
       "      <td>C</td>\n",
       "      <td>C</td>\n",
       "      <td>E</td>\n",
       "      <td>B</td>\n",
       "      <td>D</td>\n",
       "      <td>B</td>\n",
       "    </tr>\n",
       "  </tbody>\n",
       "</table>\n",
       "</div>"
      ],
      "text/plain": [
       "            Stand PWR SPD RNG PER PRC DEV\n",
       "0          Anubis   B   B   E   A   E   C\n",
       "1            Atum   D   C   D   B   D   D\n",
       "2          Bastet   E   E   B   A   E   E\n",
       "3           Cream   B   B   D   C   C   D\n",
       "4  Death Thirteen   C   C   E   B   D   B"
      ]
     },
     "execution_count": 3,
     "metadata": {},
     "output_type": "execute_result"
    }
   ],
   "source": [
    "data.head()"
   ]
  },
  {
   "cell_type": "markdown",
   "id": "947c5d18",
   "metadata": {},
   "source": [
    "# Handling null stats by creating new class"
   ]
  },
  {
   "cell_type": "code",
   "execution_count": 4,
   "id": "96f0583b",
   "metadata": {},
   "outputs": [],
   "source": [
    "# Removing null values\n",
    "data[['PWR','SPD','RNG','PER','PRC','DEV']] = data.drop('Stand', axis=1).fillna('F')"
   ]
  },
  {
   "cell_type": "markdown",
   "id": "a9482fdc",
   "metadata": {},
   "source": [
    "# Encoding data (str -> int) for model creation"
   ]
  },
  {
   "cell_type": "code",
   "execution_count": 5,
   "id": "b505cf42",
   "metadata": {},
   "outputs": [
    {
     "name": "stderr",
     "output_type": "stream",
     "text": [
      "C:\\Users\\manpr\\AppData\\Local\\Temp\\ipykernel_17012\\214810725.py:7: FutureWarning: Downcasting behavior in `replace` is deprecated and will be removed in a future version. To retain the old behavior, explicitly call `result.infer_objects(copy=False)`. To opt-in to the future behavior, set `pd.set_option('future.no_silent_downcasting', True)`\n",
      "  data[['PWR','SPD','RNG','PER','PRC','DEV']] = data.drop('Stand', axis=1).replace(grid_map)\n"
     ]
    }
   ],
   "source": [
    "# Encoding data\n",
    "\n",
    "# Encode map\n",
    "grid_map = {'F': 0, 'E': 2, 'D': 4, 'C': 6, 'B': 8, 'A': 10, 'Infi': 20}\n",
    "\n",
    "# Data encoding\n",
    "data[['PWR','SPD','RNG','PER','PRC','DEV']] = data.drop('Stand', axis=1).replace(grid_map)\n",
    "data.to_csv('../data/encoded-jojo-stands.csv', encoding='latin1', index=False)"
   ]
  },
  {
   "cell_type": "markdown",
   "id": "7605620f",
   "metadata": {},
   "source": [
    "# Preprocessing"
   ]
  },
  {
   "cell_type": "code",
   "execution_count": 6,
   "id": "cbb9e85b",
   "metadata": {},
   "outputs": [],
   "source": [
    "x = data.drop('Stand', axis=1)"
   ]
  },
  {
   "cell_type": "code",
   "execution_count": 7,
   "id": "b7fd9c40",
   "metadata": {},
   "outputs": [],
   "source": [
    "# Creating scaler to normalize values\n",
    "scaler = StandardScaler()\n",
    "x_scaled = scaler.fit_transform(x)"
   ]
  },
  {
   "cell_type": "markdown",
   "id": "429c6da3",
   "metadata": {},
   "source": [
    "# Clustering"
   ]
  },
  {
   "cell_type": "code",
   "execution_count": 8,
   "id": "04625f83",
   "metadata": {},
   "outputs": [],
   "source": [
    "kmeans = KMeans(n_clusters=4,random_state=42)\n",
    "cluster_labels = kmeans.fit_predict(x_scaled)\n",
    "mapping = {3:0,1:1,0:2,2:3}\n",
    "\n",
    "mapped_labels = [mapping[label] for label in cluster_labels]\n",
    "\n",
    "data['Rank'] = mapped_labels"
   ]
  },
  {
   "cell_type": "code",
   "execution_count": 9,
   "id": "eb29ddfe",
   "metadata": {},
   "outputs": [
    {
     "data": {
      "image/png": "[encoded data removed]",
      "text/plain": [
       "<Figure size 800x600 with 2 Axes>"
      ]
     },
     "metadata": {},
     "output_type": "display_data"
    }
   ],
   "source": [
    "pca = PCA(n_components=2)\n",
    "pca_components = pca.fit_transform(x_scaled)\n",
    "\n",
    "\n",
    "plt.figure(figsize=(8,6))\n",
    "plt.scatter(pca_components[:, 0], pca_components[:, 1], c=data['Rank'], cmap='viridis', s=60)\n",
    "plt.title(\"PCA of JoJo Stands (Colored by Cluster)\")\n",
    "plt.xlabel(\"PC1\")\n",
    "plt.ylabel(\"PC2\")\n",
    "plt.colorbar(label='Rank')\n",
    "plt.show()"
   ]
  },
  {
   "cell_type": "markdown",
   "id": "4042aa76",
   "metadata": {},
   "source": [
    "# Creating labeled csv"
   ]
  },
  {
   "cell_type": "code",
   "execution_count": 10,
   "id": "56d7ae7b",
   "metadata": {},
   "outputs": [],
   "source": [
    "data.to_csv('../data/labeled-encoded-jojo-stands.csv', encoding='latin1', index=False)"
   ]
  },
  {
   "cell_type": "code",
   "execution_count": 11,
   "id": "2cd93c98",
   "metadata": {},
   "outputs": [
    {
     "data": {
      "text/html": [
       "<div>\n",
       "<style scoped>\n",
       "    .dataframe tbody tr th:only-of-type {\n",
       "        vertical-align: middle;\n",
       "    }\n",
       "\n",
       "    .dataframe tbody tr th {\n",
       "        vertical-align: top;\n",
       "    }\n",
       "\n",
       "    .dataframe thead th {\n",
       "        text-align: right;\n",
       "    }\n",
       "</style>\n",
       "<table border=\"1\" class=\"dataframe\">\n",
       "  <thead>\n",
       "    <tr style=\"text-align: right;\">\n",
       "      <th></th>\n",
       "      <th>Rank</th>\n",
       "      <th>count</th>\n",
       "    </tr>\n",
       "  </thead>\n",
       "  <tbody>\n",
       "    <tr>\n",
       "      <th>0</th>\n",
       "      <td>2</td>\n",
       "      <td>60</td>\n",
       "    </tr>\n",
       "    <tr>\n",
       "      <th>1</th>\n",
       "      <td>1</td>\n",
       "      <td>50</td>\n",
       "    </tr>\n",
       "    <tr>\n",
       "      <th>2</th>\n",
       "      <td>0</td>\n",
       "      <td>30</td>\n",
       "    </tr>\n",
       "    <tr>\n",
       "      <th>3</th>\n",
       "      <td>3</td>\n",
       "      <td>16</td>\n",
       "    </tr>\n",
       "  </tbody>\n",
       "</table>\n",
       "</div>"
      ],
      "text/plain": [
       "   Rank  count\n",
       "0     2     60\n",
       "1     1     50\n",
       "2     0     30\n",
       "3     3     16"
      ]
     },
     "execution_count": 11,
     "metadata": {},
     "output_type": "execute_result"
    }
   ],
   "source": [
    "data['Rank'].value_counts().reset_index()"
   ]
  },
  {
   "cell_type": "code",
   "execution_count": 12,
   "id": "c35d641d",
   "metadata": {},
   "outputs": [
    {
     "name": "stdout",
     "output_type": "stream",
     "text": [
      "           PWR        SPD       RNG        PER       PRC    DEV\n",
      "Rank                                                           \n",
      "0     7.666667   7.633333  5.533333   7.333333  5.133333  7.300\n",
      "1     3.640000   5.440000  9.240000   9.280000  4.080000  3.640\n",
      "2     9.375000  11.500000  9.375000  11.250000  8.750000  7.625\n",
      "3     2.466667   3.000000  2.400000   8.400000  2.066667  3.400\n"
     ]
    }
   ],
   "source": [
    "centroids = kmeans.cluster_centers_\n",
    "\n",
    "centroids_original = scaler.inverse_transform(centroids)\n",
    "centroid_df = pd.DataFrame(centroids_original, columns=['PWR', 'SPD', 'RNG', 'PER', 'PRC', 'DEV'])\n",
    "centroid_df.index.name = 'Rank'\n",
    "print(centroid_df)"
   ]
  }
 ],
 "metadata": {
  "kernelspec": {
   "display_name": ".jojoStandenv",
   "language": "python",
   "name": "python3"
  },
  "language_info": {
   "codemirror_mode": {
    "name": "ipython",
    "version": 3
   },
   "file_extension": ".py",
   "mimetype": "text/x-python",
   "name": "python",
   "nbconvert_exporter": "python",
   "pygments_lexer": "ipython3",
   "version": "3.12.4"
  }
 },
 "nbformat": 4,
 "nbformat_minor": 5
}
