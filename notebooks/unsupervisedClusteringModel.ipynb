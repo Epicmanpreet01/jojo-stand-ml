{
 "cells": [
  {
   "cell_type": "markdown",
   "id": "d30ab3dc",
   "metadata": {},
   "source": [
    "# Loading Dependencies"
   ]
  },
  {
   "cell_type": "code",
   "execution_count": null,
   "id": "8c042e1a",
   "metadata": {},
   "outputs": [],
   "source": [
    "import numpy as np\n",
    "import pandas as pd\n",
    "import matplotlib.pyplot as plt\n",
    "\n",
    "from sklearn.preprocessing import StandardScaler\n",
    "from sklearn.cluster import KMeans\n",
    "from sklearn.decomposition import PCA"
   ]
  },
  {
   "cell_type": "markdown",
   "id": "3c8f4d1b",
   "metadata": {},
   "source": [
    "# Loading encoded data"
   ]
  },
  {
   "cell_type": "code",
   "execution_count": null,
   "id": "6c9130d9",
   "metadata": {},
   "outputs": [],
   "source": [
    "data = pd.read_csv('../data/jojo-stands.csv', encoding='latin1')"
   ]
  },
  {
   "cell_type": "code",
   "execution_count": null,
   "id": "e95cb3a4",
   "metadata": {},
   "outputs": [],
   "source": [
    "data.head()"
   ]
  },
  {
   "cell_type": "markdown",
   "id": "947c5d18",
   "metadata": {},
   "source": [
    "# Handling null stats by creating new class"
   ]
  },
  {
   "cell_type": "code",
   "execution_count": null,
   "id": "96f0583b",
   "metadata": {},
   "outputs": [],
   "source": [
    "# Removing null values\n",
    "data[['PWR','SPD','RNG','PER','PRC','DEV']] = data.drop('Stand', axis=1).fillna('F')"
   ]
  },
  {
   "cell_type": "markdown",
   "id": "a9482fdc",
   "metadata": {},
   "source": [
    "# Encoding data (str -> int) for model creation"
   ]
  },
  {
   "cell_type": "code",
   "execution_count": null,
   "id": "b505cf42",
   "metadata": {},
   "outputs": [],
   "source": [
    "# Encoding data\n",
    "\n",
    "# Encode map\n",
    "grid_map = {'F': 0, 'E': 2, 'D': 4, 'C': 6, 'B': 8, 'A': 10, 'Infi': 20}\n",
    "\n",
    "# Data encoding\n",
    "data[['PWR','SPD','RNG','PER','PRC','DEV']] = data.drop('Stand', axis=1).replace(grid_map)\n",
    "data.to_csv('../data/encoded-jojo-stands.csv', encoding='latin1', index=False)"
   ]
  },
  {
   "cell_type": "markdown",
   "id": "7605620f",
   "metadata": {},
   "source": [
    "# Preprocessing"
   ]
  },
  {
   "cell_type": "code",
   "execution_count": null,
   "id": "cbb9e85b",
   "metadata": {},
   "outputs": [],
   "source": [
    "x = data.drop('Stand', axis=1)"
   ]
  },
  {
   "cell_type": "code",
   "execution_count": null,
   "id": "b7fd9c40",
   "metadata": {},
   "outputs": [],
   "source": [
    "# Creating scaler to normalize values\n",
    "scaler = StandardScaler()\n",
    "x_scaled = scaler.fit_transform(x)"
   ]
  },
  {
   "cell_type": "markdown",
   "id": "429c6da3",
   "metadata": {},
   "source": [
    "# Clustering"
   ]
  },
  {
   "cell_type": "code",
   "execution_count": null,
   "id": "04625f83",
   "metadata": {},
   "outputs": [],
   "source": [
    "kmeans = KMeans(n_clusters=4,random_state=42)\n",
    "cluster_labels = kmeans.fit_predict(x_scaled)\n",
    "mapping = {3:0,1:1,0:2,2:3}\n",
    "\n",
    "mapped_labels = [mapping[label] for label in cluster_labels]\n",
    "\n",
    "data['Rank'] = mapped_labels"
   ]
  },
  {
   "cell_type": "code",
   "execution_count": null,
   "id": "eb29ddfe",
   "metadata": {},
   "outputs": [],
   "source": [
    "pca = PCA(n_components=2)\n",
    "pca_components = pca.fit_transform(x_scaled)\n",
    "\n",
    "\n",
    "plt.figure(figsize=(8,6))\n",
    "plt.scatter(pca_components[:, 0], pca_components[:, 1], c=data['Rank'], cmap='viridis', s=60)\n",
    "plt.title(\"PCA of JoJo Stands (Colored by Cluster)\")\n",
    "plt.xlabel(\"PC1\")\n",
    "plt.ylabel(\"PC2\")\n",
    "plt.colorbar(label='Rank')\n",
    "plt.show()"
   ]
  },
  {
   "cell_type": "markdown",
   "id": "4042aa76",
   "metadata": {},
   "source": [
    "# Creating labeled csv"
   ]
  },
  {
   "cell_type": "code",
   "execution_count": null,
   "id": "56d7ae7b",
   "metadata": {},
   "outputs": [],
   "source": [
    "data.to_csv('../data/labeled-encoded-jojo-stands.csv', encoding='latin1', index=False)"
   ]
  },
  {
   "cell_type": "code",
   "execution_count": null,
   "id": "2cd93c98",
   "metadata": {},
   "outputs": [],
   "source": [
    "data['Rank'].value_counts().reset_index()"
   ]
  },
  {
   "cell_type": "code",
   "execution_count": null,
   "id": "c35d641d",
   "metadata": {},
   "outputs": [],
   "source": [
    "centroids = kmeans.cluster_centers_\n",
    "\n",
    "centroids_original = scaler.inverse_transform(centroids)\n",
    "centroid_df = pd.DataFrame(centroids_original, columns=['PWR', 'SPD', 'RNG', 'PER', 'PRC', 'DEV'])\n",
    "centroid_df.index.name = 'Rank'\n",
    "print(centroid_df)"
   ]
  }
 ],
 "metadata": {
  "kernelspec": {
   "display_name": "base",
   "language": "python",
   "name": "python3"
  },
  "language_info": {
   "codemirror_mode": {
    "name": "ipython",
    "version": 3
   },
   "file_extension": ".py",
   "mimetype": "text/x-python",
   "name": "python",
   "nbconvert_exporter": "python",
   "pygments_lexer": "ipython3",
   "version": "3.12.7"
  }
 },
 "nbformat": 4,
 "nbformat_minor": 5
}
